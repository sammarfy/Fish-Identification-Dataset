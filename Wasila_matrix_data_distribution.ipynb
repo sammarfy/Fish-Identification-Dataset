{
 "cells": [
  {
   "cell_type": "code",
   "execution_count": 1,
   "metadata": {},
   "outputs": [],
   "source": [
    "import pandas as pd\n",
    "import numpy as np\n",
    "import warnings\n",
    "warnings.filterwarnings('ignore')"
   ]
  },
  {
   "cell_type": "code",
   "execution_count": 2,
   "metadata": {},
   "outputs": [],
   "source": [
    "df = pd.read_csv('wasila_matrix.csv')\n",
    "updated_names = df.updated_names.values\n",
    "taxa = np.unique(df.taxa.values)\n",
    "family = np.unique(df.family.values)\n",
    "genera = np.unique(np.array([sp.split(' ')[0] for sp in taxa]))"
   ]
  },
  {
   "cell_type": "code",
   "execution_count": 3,
   "metadata": {},
   "outputs": [],
   "source": [
    "df[['taxa', 'family']].to_csv('identification_species_family.csv', index=False)"
   ]
  },
  {
   "cell_type": "markdown",
   "metadata": {},
   "source": [
    "### There are few taxa that has annotated multiple times."
   ]
  },
  {
   "cell_type": "code",
   "execution_count": 4,
   "metadata": {},
   "outputs": [
    {
     "name": "stdout",
     "output_type": "stream",
     "text": [
      "********************The multi-annotated taxa are********************\n"
     ]
    },
    {
     "ename": "TypeError",
     "evalue": "unhashable type: 'numpy.ndarray'",
     "output_type": "error",
     "traceback": [
      "\u001b[0;31m---------------------------------------------------------------------------\u001b[0m",
      "\u001b[0;31mTypeError\u001b[0m                                 Traceback (most recent call last)",
      "Cell \u001b[0;32mIn[4], line 6\u001b[0m\n\u001b[1;32m      4\u001b[0m \u001b[38;5;28;01mfor\u001b[39;00m taxa_ \u001b[38;5;129;01min\u001b[39;00m taxa_frequency:\n\u001b[1;32m      5\u001b[0m     \u001b[38;5;28;01mif\u001b[39;00m taxa_frequency[taxa_] \u001b[38;5;241m!=\u001b[39m \u001b[38;5;241m1\u001b[39m:\n\u001b[0;32m----> 6\u001b[0m         \u001b[38;5;28mprint\u001b[39m(\u001b[38;5;124mf\u001b[39m\u001b[38;5;124m'\u001b[39m\u001b[38;5;130;01m\\033\u001b[39;00m\u001b[38;5;124m[1m\u001b[39m\u001b[38;5;132;01m{\u001b[39;00mtaxa\u001b[38;5;132;01m}\u001b[39;00m\u001b[38;5;130;01m\\033\u001b[39;00m\u001b[38;5;124m[0m\u001b[39m\u001b[38;5;124m'\u001b[39m, \u001b[38;5;124m'\u001b[39m\u001b[38;5;124mannotated\u001b[39m\u001b[38;5;124m'\u001b[39m,\u001b[43mtaxa_frequency\u001b[49m\u001b[43m[\u001b[49m\u001b[43mtaxa\u001b[49m\u001b[43m]\u001b[49m, \u001b[38;5;124m'\u001b[39m\u001b[38;5;124mtimes.\u001b[39m\u001b[38;5;124m'\u001b[39m)\n",
      "\u001b[0;31mTypeError\u001b[0m: unhashable type: 'numpy.ndarray'"
     ]
    }
   ],
   "source": [
    "# Counting the frequency of each unique taxa in taxa_all\n",
    "taxa_frequency = {taxa_: df.taxa.values.tolist().count(taxa_) for taxa_ in taxa}\n",
    "print(\"********************The multi-annotated taxa are********************\")\n",
    "for taxa_ in taxa_frequency:\n",
    "    if taxa_frequency[taxa_] != 1:\n",
    "        print(f'\\033[1m{taxa}\\033[0m', 'annotated',taxa_frequency[taxa_], 'times.')"
   ]
  },
  {
   "cell_type": "code",
   "execution_count": null,
   "metadata": {},
   "outputs": [],
   "source": [
    "import matplotlib.pyplot as plt\n",
    "\n",
    "# Recalculating the total counts for each category\n",
    "total_taxa_count = taxa.shape[0]\n",
    "total_genera_count = genera.shape[0]\n",
    "total_family_count = family.shape[0]\n",
    "\n",
    "# Categories and their respective counts\n",
    "categories = ['Species', 'Genera', 'Family']\n",
    "counts = [total_taxa_count, total_genera_count, total_family_count]"
   ]
  },
  {
   "cell_type": "code",
   "execution_count": null,
   "metadata": {},
   "outputs": [],
   "source": [
    "import matplotlib.ticker as mticker\n",
    "\n",
    "# Enhanced plot settings for a professional look\n",
    "plt.figure(figsize=(10, 6))\n",
    "bars = plt.bar(categories, counts, color=['#1f77b4', '#ff7f0e', '#2ca02c'], edgecolor='black')\n",
    "\n",
    "# Adding count labels with enhanced styling\n",
    "for bar in bars:\n",
    "    yval = bar.get_height()\n",
    "    plt.text(bar.get_x() + bar.get_width()/2, yval, f'{int(yval)}', ha='center', va='bottom', fontname='serif', fontsize=12, color='black', fontweight='bold')\n",
    "\n",
    "# Setting up the plot with professional aesthetics\n",
    "plt.title('Total Counts of Taxa, Genera, and Family', fontname='serif', fontsize=16, fontweight='bold')\n",
    "plt.ylabel('Count', fontname='serif', fontsize=14, fontweight='bold')\n",
    "plt.xlabel('Category', fontname='serif', fontsize=14, fontweight='bold')\n",
    "plt.xticks(fontsize=12, fontname='serif')\n",
    "plt.yticks(fontsize=12, fontname='serif')\n",
    "\n",
    "# Format y-axis to display whole numbers only\n",
    "plt.gca().yaxis.set_major_formatter(mticker.FormatStrFormatter('%d'))\n",
    "\n",
    "# Adding a grid for better readability\n",
    "plt.grid(axis='y', linestyle='--', alpha=0.7)\n",
    "\n",
    "# Tight layout for better spacing\n",
    "plt.tight_layout()\n",
    "\n",
    "# Show plot\n",
    "plt.show()\n"
   ]
  },
  {
   "cell_type": "code",
   "execution_count": null,
   "metadata": {},
   "outputs": [],
   "source": []
  }
 ],
 "metadata": {
  "kernelspec": {
   "display_name": "Python 3 (ipykernel)",
   "language": "python",
   "name": "python3"
  },
  "language_info": {
   "codemirror_mode": {
    "name": "ipython",
    "version": 3
   },
   "file_extension": ".py",
   "mimetype": "text/x-python",
   "name": "python",
   "nbconvert_exporter": "python",
   "pygments_lexer": "ipython3",
   "version": "3.8.6"
  }
 },
 "nbformat": 4,
 "nbformat_minor": 4
}
